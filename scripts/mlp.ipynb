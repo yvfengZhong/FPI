{
 "cells": [
  {
   "cell_type": "code",
   "execution_count": null,
   "id": "ed96ef08",
   "metadata": {
    "pycharm": {
     "name": "#%%\n"
    }
   },
   "outputs": [],
   "source": [
    "%matplotlib inline\n",
    "import numpy as np\n",
    "import pandas as pd\n",
    "import torch\n",
    "from torch import nn\n",
    "from d2l import torch as d2l\n",
    "from sklearn.preprocessing import StandardScaler\n",
    "import copy\n",
    "import random\n",
    "from tqdm import tqdm"
   ]
  },
  {
   "cell_type": "code",
   "execution_count": null,
   "id": "a7e68714",
   "metadata": {
    "pycharm": {
     "name": "#%%\n"
    }
   },
   "outputs": [],
   "source": [
    "loss = nn.MSELoss()\n",
    "\n",
    "\n",
    "class MLP(nn.Module):\n",
    "    def __init__(self, in_features=12, hidden=512):\n",
    "        super(MLP, self).__init__()\n",
    "        self.net = nn.Sequential(\n",
    "            nn.Linear(1, hidden),\n",
    "            nn.ReLU()\n",
    "        )\n",
    "        self.conv1 = nn.Sequential(nn.Conv1d(in_channels=hidden, out_channels=2048, kernel_size=1), nn.ReLU())\n",
    "        self.conv2 = nn.Conv1d(in_channels=2048, out_channels=hidden, kernel_size=1)\n",
    "        self.lnorm = nn.LayerNorm(hidden)\n",
    "        self.fc = nn.Linear(hidden * in_features, 1)\n",
    "\n",
    "    def forward(self, data):\n",
    "        shape = data.shape\n",
    "        data = data.unsqueeze(-1)\n",
    "        data = self.net(data)\n",
    "        out = self.conv1(data.transpose(1, 2))\n",
    "        out = self.conv2(out).transpose(1, 2)\n",
    "        out = self.lnorm(out + data)\n",
    "        out = out.squeeze(-1).reshape(shape[0], 12 * 512)\n",
    "        out = self.fc(out)\n",
    "        return out\n",
    "\n",
    "\n",
    "def get_net(in_features=12):\n",
    "    net = MLP(in_features)\n",
    "    return net"
   ]
  },
  {
   "cell_type": "code",
   "execution_count": null,
   "id": "761f186f",
   "metadata": {
    "pycharm": {
     "name": "#%%\n"
    }
   },
   "outputs": [],
   "source": [
    "def mae(net, features, labels):\n",
    "    # 为了在取对数时进一步稳定该值，将小于1的值设置为1\n",
    "    preds = net(features)\n",
    "    mae = torch.tensor(abs(labels - preds), dtype=torch.float32)\n",
    "    return mae.mean().item()"
   ]
  },
  {
   "cell_type": "code",
   "execution_count": null,
   "id": "1d52c2be",
   "metadata": {
    "pycharm": {
     "name": "#%%\n"
    }
   },
   "outputs": [],
   "source": [
    "def train(net, train_features, train_labels, test_features, test_labels,\n",
    "          num_epochs, learning_rate, weight_decay, batch_size):\n",
    "    best_mae = float('inf')\n",
    "    best_weights = None\n",
    "    train_ls, test_ls = [], []\n",
    "    train_iter = d2l.load_array((train_features, train_labels), batch_size)\n",
    "    # 这里使用的是Adam优化算法\n",
    "    optimizer = torch.optim.Adam(net.parameters(),\n",
    "                                 lr = learning_rate,\n",
    "                                 weight_decay = weight_decay)\n",
    "    for epoch in range(num_epochs):\n",
    "        for X, y in train_iter:\n",
    "            optimizer.zero_grad()\n",
    "            l = loss(net(X), y)\n",
    "            l.backward()\n",
    "            optimizer.step()\n",
    "        train_ls.append(mae(net, train_features, train_labels))\n",
    "        if test_labels is not None:\n",
    "            net.eval()\n",
    "            with torch.no_grad():\n",
    "                test_mae = mae(net, test_features, test_labels)\n",
    "                test_ls.append(test_mae)\n",
    "                if test_mae < best_mae:\n",
    "                    best_mae = test_mae\n",
    "                    best_weights = copy.deepcopy(net.state_dict())\n",
    "            net.train()\n",
    "        if best_mae < 10:\n",
    "            print(\"best_mae:\", best_mae)\n",
    "    return train_ls, test_ls, best_weights"
   ]
  },
  {
   "cell_type": "code",
   "execution_count": null,
   "id": "a31f11aa",
   "metadata": {
    "pycharm": {
     "name": "#%%\n"
    }
   },
   "outputs": [],
   "source": [
    "def train_and_pred(train_features, test_features, train_labels, test_labels,\n",
    "                   num_epochs, lr, weight_decay, batch_size):\n",
    "    net = get_net()\n",
    "    net = net.to(device)\n",
    "    train_ls, test_ls, best_weights = train(net, train_features, train_labels, test_features, test_labels,\n",
    "                        num_epochs, lr, weight_decay, batch_size)\n",
    "#     d2l.plot(np.arange(1, num_epochs + 1), [train_ls, test_ls], xlabel='epoch',\n",
    "#              ylabel='mse', xlim=[1, num_epochs], legend=['train', 'valid'])\n",
    "#     print(f'训练mse：{float(min(train_ls)):f}')\n",
    "#     print(f'测试mse：{float(min(test_ls)):f}')\n",
    "    # 将网络应用于测试集。\n",
    "    net.eval()\n",
    "    with torch.no_grad():\n",
    "        net.load_state_dict(best_weights)\n",
    "        preds = net(test_features).cpu().detach().numpy()\n",
    "    net.train()\n",
    "\n",
    "    return preds"
   ]
  },
  {
   "cell_type": "code",
   "execution_count": null,
   "id": "1c35d7fe",
   "metadata": {
    "pycharm": {
     "name": "#%%\n"
    }
   },
   "outputs": [],
   "source": [
    "def evaluate_metrics(y_test_list, y_pred_list):\n",
    "    mae, rmse = [], []\n",
    "    for y_test, y_pred in zip(y_test_list, y_pred_list):\n",
    "        mae.append(np.mean(np.abs(y_test - y_pred)))\n",
    "        rmse.append(np.sqrt(np.mean((y_test - y_pred) ** 2)))\n",
    "        \n",
    "    mae_mean, mae_std = np.mean(mae), np.std(mae)\n",
    "    rmse_mean, rmse_std = np.mean(rmse), np.std(rmse)\n",
    "    \n",
    "    return mae_mean.item(), mae_std.item(), rmse_mean.item(), rmse_std.item()"
   ]
  },
  {
   "cell_type": "code",
   "execution_count": null,
   "id": "bd4c1572",
   "metadata": {},
   "outputs": [],
   "source": [
    "def set_random_seed(seed):\n",
    "    random.seed(seed)\n",
    "    np.random.seed(seed)\n",
    "    torch.manual_seed(seed)\n",
    "    torch.cuda.manual_seed(seed)\n",
    "    torch.backends.cudnn.deterministic = True"
   ]
  },
  {
   "cell_type": "code",
   "execution_count": null,
   "id": "16a6a28c",
   "metadata": {},
   "outputs": [],
   "source": [
    "device = \"cuda\" if torch.cuda.is_available() else \"cpu\"\n",
    "k, weight_decay = 5, 0\n",
    "num_epochs, lr, batch_size = 100, 1e-4, 8\n",
    "\n",
    "train_data = pd.read_csv(\"../dataset/CME/train_val_set.csv\", header=None)\n",
    "test_data = pd.read_csv(\"../dataset/CME/test_set.csv\", header=None)\n",
    "\n",
    "scaler = StandardScaler()\n",
    "X_train = scaler.fit_transform(train_data.iloc[:, 2:-1].values)\n",
    "X_test = scaler.transform(test_data.iloc[:, 2:-1].values)\n",
    "\n",
    "train_labels = train_data.iloc[:, -1].values.reshape(-1, 1)\n",
    "test_labels = test_data.iloc[:, -1].values.reshape(-1, 1)\n",
    "\n",
    "train_features = torch.tensor(X_train, dtype=torch.float32).to(device)\n",
    "test_features = torch.tensor(X_test, dtype=torch.float32).to(device)\n",
    "train_labels = torch.tensor(train_labels, dtype=torch.float32).to(device)\n",
    "test_labels = torch.tensor(test_labels, dtype=torch.float32).to(device)\n",
    "\n",
    "set_random_seed(42)\n",
    "\n",
    "\n",
    "y_pred = train_and_pred(train_features, test_features, train_labels, test_labels, num_epochs, \n",
    "                        lr, weight_decay, batch_size)\n",
    "\n",
    "test_labels = test_labels.cpu().detach().numpy()\n",
    "    \n",
    "\n",
    "print(\"MAE:\", np.mean(np.abs(y_pred - test_labels)).item())\n",
    "print(\"RMSE:\", np.sqrt(np.mean((y_pred - test_labels) ** 2)))"
   ]
  },
  {
   "cell_type": "code",
   "execution_count": null,
   "id": "a42d5896",
   "metadata": {},
   "outputs": [],
   "source": []
  }
 ],
 "metadata": {
  "kernelspec": {
   "display_name": "Python 3 (ipykernel)",
   "language": "python",
   "name": "python3"
  },
  "language_info": {
   "codemirror_mode": {
    "name": "ipython",
    "version": 3
   },
   "file_extension": ".py",
   "mimetype": "text/x-python",
   "name": "python",
   "nbconvert_exporter": "python",
   "pygments_lexer": "ipython3",
   "version": "3.7.15"
  }
 },
 "nbformat": 4,
 "nbformat_minor": 5
}
